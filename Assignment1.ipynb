{
 "cells": [
  {
   "attachments": {},
   "cell_type": "markdown",
   "metadata": {},
   "source": [
    "1.\n",
    "  Python was developed by Guido Van Rossem and released in 1991."
   ]
  },
  {
   "attachments": {},
   "cell_type": "markdown",
   "metadata": {},
   "source": [
    "2.\n",
    "  Python supports Object oriented programming, Structured programming, Functional programming, Aspect-oriented programming."
   ]
  },
  {
   "attachments": {},
   "cell_type": "markdown",
   "metadata": {},
   "source": [
    "3.\n",
    "  Yes, python is case sensitive when dealing with identifiers."
   ]
  },
  {
   "attachments": {},
   "cell_type": "markdown",
   "metadata": {},
   "source": [
    "4.\n",
    "  .py is the extension of the python file."
   ]
  },
  {
   "attachments": {},
   "cell_type": "markdown",
   "metadata": {},
   "source": [
    "5.\n",
    "  Python code is interpreted."
   ]
  },
  {
   "attachments": {},
   "cell_type": "markdown",
   "metadata": {},
   "source": [
    "6.\n",
    "  Indentation is used to define block of code in python. If_else and loops are used to execute a block of code and statements. The following are blocks: Module, Function body, and Class definition."
   ]
  },
  {
   "attachments": {},
   "cell_type": "markdown",
   "metadata": {},
   "source": [
    "7.\n",
    "  Hash character (#) is used to comment the line in the python."
   ]
  },
  {
   "attachments": {},
   "cell_type": "markdown",
   "metadata": {},
   "source": [
    "8.\n",
    "  The function sys.version can help us to find the version of python that we are currently working on."
   ]
  },
  {
   "attachments": {},
   "cell_type": "markdown",
   "metadata": {},
   "source": [
    "9.\n",
    "  Python supports the creation of anonymus functions at runtime, using a construct called “Lambda”."
   ]
  },
  {
   "attachments": {},
   "cell_type": "markdown",
   "metadata": {},
   "source": [
    "10.\n",
    "   pip stand for “Preferred installer program”."
   ]
  },
  {
   "attachments": {},
   "cell_type": "markdown",
   "metadata": {},
   "source": [
    "11.\n",
    "   Built in functions in python:\n",
    "type() - Return the type of an object.\n",
    "tuple() – Return a tuple.\n",
    "sum() – Sum the items of an iterator.\n",
    "str() – Return the string object.\n",
    "sorted() – Return a sorted list.\n",
    "slice() – Return a slice object.\n",
    "set() – Return a new set object.\n",
    "reversed() – Return a reversed iterator.\n",
    "range() - Returns a sequence of numbers, starting from 0 and increments by 1.\n",
    "print() - Prints to the standard output device.\n",
    "list() – Return a list.\n",
    "len() – Return a length of an object.\n",
    "int() – Return an integer number.\n",
    "input() – Allowing user input.\n",
    "globals()- Returns the current global symbol table as a dictionary.\n",
    "format() – Format a specified value.\n",
    "float() – Return a floating point number.\n",
    "dict() – Return a dictionary.\n",
    "complex() – Return a complex number.\n",
    "byte() – Return a byte object.\n",
    "bool() - Returns the boolean value of the specified object.\n",
    "bin()- Return the binary version of number.\n"
   ]
  },
  {
   "attachments": {},
   "cell_type": "markdown",
   "metadata": {},
   "source": [
    "12.\n",
    "   An indentifier can have a maximum length of 79 characters."
   ]
  },
  {
   "attachments": {},
   "cell_type": "markdown",
   "metadata": {},
   "source": [
    "13.\n",
    "   Benefits of using python are, Easy to code, easy to read, free and open source, Robust standard library, Interpreted, Portable, Object oriented and Procedure oriented, Extensible."
   ]
  },
  {
   "attachments": {},
   "cell_type": "markdown",
   "metadata": {},
   "source": [
    "14.\n",
    "   Memory management in python involves a private heap containing all python objects and data structures. The management of this private heap is ensured internally by the python memory manager"
   ]
  },
  {
   "attachments": {},
   "cell_type": "markdown",
   "metadata": {},
   "source": [
    "15.\n",
    "   Installing python on windows:\n",
    " 1.Select version of python to install.\n",
    " 2.Download python executable installer.\n",
    " 3.Run executable installer.\n",
    " 4.Verify python is installed on windows.\n",
    " 5.Verify pip was installed.\n",
    "\n",
    "Set path variables on Windows:\n",
    "1.Right-clicking This PC and going to Properties.\n",
    "2.Clicking on the Advanced system settings in the menu on the left.\n",
    "3.Clicking on the Environment Variables button on the bottom right.\n",
    "4.In the System variables section, selecting the path variable and clicking on Edit. The next screen will show all the directories that are currently a part of the path variable.\n",
    "5.Clicking on new and entering Python’s install directory.\n"
   ]
  },
  {
   "attachments": {},
   "cell_type": "markdown",
   "metadata": {},
   "source": [
    "16.\n",
    "   The indentation in python is very important. Python uses indentation to indicate block of code."
   ]
  }
 ],
 "metadata": {
  "kernelspec": {
   "display_name": "Python 3",
   "language": "python",
   "name": "python3"
  },
  "language_info": {
   "name": "python",
   "version": "3.11.1"
  },
  "orig_nbformat": 4,
  "vscode": {
   "interpreter": {
    "hash": "6662073f3bde6be334dec329a6c9947da37b6bb749f0724ccca866176f72e3b8"
   }
  }
 },
 "nbformat": 4,
 "nbformat_minor": 2
}
